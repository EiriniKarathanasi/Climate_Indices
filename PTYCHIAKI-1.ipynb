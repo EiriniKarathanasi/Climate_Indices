{
 "cells": [
  {
   "cell_type": "code",
   "execution_count": 1,
   "metadata": {},
   "outputs": [],
   "source": [
    "import numpy as np\n",
    "import pandas as pd\n",
    "import os\n",
    "import glob"
   ]
  },
  {
   "cell_type": "markdown",
   "metadata": {},
   "source": [
    "Αρχικά καλούμε τις βιβλιοθήκες που θα χρειαστούμε"
   ]
  },
  {
   "cell_type": "code",
   "execution_count": 2,
   "metadata": {},
   "outputs": [],
   "source": [
    "# folder_path= 'C:/Users/irene/OneDrive/Υπολογιστής/Data_Eirini/EUR-11_MPI-M-MPI-ESM-LR/Athens/tasmin45'\n",
    "Cities = ['Madrid','Moscow','Athens','Berlin','Bucurest','Budapest','Kiev','Paris','Vienna']\n",
    "folder_paths = []\n",
    "for city in Cities:\n",
    "    folder_paths.append('C:/Users/irene/OneDrive/Υπολογιστής/Data_Eirini/EUR-11_MPI-M-MPI-ESM-LR/'+city+'/rcp45/tasmin45')\n",
    "    folder_paths.append('C:/Users/irene/OneDrive/Υπολογιστής/Data_Eirini/EUR-11_MPI-M-MPI-ESM-LR/'+city+'/rcp45/tasmax45')\n",
    "    folder_paths.append('C:/Users/irene/OneDrive/Υπολογιστής/Data_Eirini/EUR-11_MPI-M-MPI-ESM-LR/'+city+'/rcp45/pr45')\n",
    "    folder_paths.append('C:/Users/irene/OneDrive/Υπολογιστής/Data_Eirini/EUR-11_MPI-M-MPI-ESM-LR/'+city+'/rcp85/tasmin85')\n",
    "    folder_paths.append('C:/Users/irene/OneDrive/Υπολογιστής/Data_Eirini/EUR-11_MPI-M-MPI-ESM-LR/'+city+'/rcp85/tasmax85')\n",
    "    folder_paths.append('C:/Users/irene/OneDrive/Υπολογιστής/Data_Eirini/EUR-11_MPI-M-MPI-ESM-LR/'+city+'/rcp85/pr85')\n",
    "\n",
    "output_paths = []\n",
    "for city in Cities:\n",
    "    output_paths.append('C:/Users/irene/OneDrive/Υπολογιστής/Data_Eirini/EUR-11_MPI-M-MPI-ESM-LR/'+city+'/rcp45')\n",
    "    output_paths.append('C:/Users/irene/OneDrive/Υπολογιστής/Data_Eirini/EUR-11_MPI-M-MPI-ESM-LR/'+city+'/rcp85')\n",
    "\n",
    "\n",
    "\n",
    "# output_path = 'C:/Users/irene/OneDrive/Υπολογιστής/Data_Eirini/EUR-11_MPI-M-MPI-ESM-LR/Athens'\n",
    "# file_list = [f for f in os.listdir(folder_path) if f.endswith('.txt')]\n",
    "\n"
   ]
  },
  {
   "cell_type": "markdown",
   "metadata": {},
   "source": [
    "Παραπάνω αρχικά ορίζουμε την μεταβλητή για τις πόλεις και ορίζουμε τις τοποθεσίες από όπου θα πάρουμε τα δεδομένα.\n",
    "Στη συνέχεια ορίζουμε τις τοποθεσίες όπου τα νέα ενωμένα αρχεία θα αποθηκευτούν"
   ]
  },
  {
   "cell_type": "code",
   "execution_count": 4,
   "metadata": {},
   "outputs": [],
   "source": [
    "for folder_path in folder_paths:\n",
    "    file_list = [f for f in os.listdir(folder_path) if f.endswith('.txt')]\n",
    "    output_path, file_name = os.path.split(folder_path)\n",
    "    head, tail1 = os.path.splitext(output_path)\n",
    "    head1, tail2 =  os.path.split(head)\n",
    "    head2, city_tmp = os.path.split(head1)\n",
    "    dfs = []\n",
    "    for file in file_list:\n",
    "        # print(city_tmp+file)\n",
    "        file_path = os.path.join(folder_path,file)\n",
    "        data = pd.read_csv(file_path,delim_whitespace=True ,comment = '#',header = None,names =['#date','lon','lat','value'])\n",
    "        data['#date'] = pd.to_datetime(data['#date'])\n",
    "        data['Year']= data['#date'].dt.year\n",
    "        data['Month']= data['#date'].dt.month\n",
    "        data['Day']= data['#date'].dt.day\n",
    "        data = data.drop(['#date'],axis =1)\n",
    "        data = data[['Year','Month','Day','lon','lat','value']]\n",
    "        # print(data.shape)\n",
    "        dfs.append(data)\n",
    "\n",
    "    concatenated = pd.concat(dfs,ignore_index=True)\n",
    "    concatenated.to_csv(os.path.join(output_path,'1971-2005'+city_tmp+file_name+'.txt'),index = False, sep='\\t' )\n",
    "\n",
    "for output_path in output_paths:    \n",
    "    out_file_list = [f for f in os.listdir(output_path) if f.endswith('.txt')]\n",
    "    for out_file in out_file_list:   \n",
    "        rem_path, model = os.path.split(output_path)\n",
    "        head, city_tmp = os.path.split(rem_path)\n",
    "        \n",
    "        prdf = pd.read_csv(os.path.join(output_path,out_file_list[0]),delim_whitespace=True)\n",
    "        tasmaxdf = pd.read_csv(os.path.join(output_path,out_file_list[1]),delim_whitespace=True)\n",
    "        tasmindf = pd.read_csv(os.path.join(output_path,out_file_list[2]),delim_whitespace=True)\n",
    "\n",
    "        pr = prdf['value']\n",
    "        tasmax = tasmaxdf['value']\n",
    "        tasmin = tasmindf['value']\n",
    "        year = prdf['Year']\n",
    "        month = prdf['Month']\n",
    "        day = prdf['Day']\n",
    "\n",
    "        df = pd.DataFrame({'Year': year,'Month':month,'Day':day,'Pr':pr*86400,'Tmax':tasmax-273.15,'Tmin':tasmin-273.15})\n",
    "        df.to_csv(os.path.join(\"C:/Users/irene/OneDrive/Υπολογιστής/Data_Eirini/EUR-11_MPI-M-MPI-ESM-LR\",'final_1971_2005_'+city_tmp+\"_\"+model+'.txt'),index = False, header =False, sep='\\t')\n",
    "    "
   ]
  },
  {
   "cell_type": "markdown",
   "metadata": {},
   "source": [
    "Έπειτα με τις παραπάνω εντολές φτιάχνουμε τα αρχεία στην μορφή την οποία θέλουμε και ενώνουμε τα αρχεία σε ένα txt αρχείο και τα αποθηκεύουμε στην τοποθεσία που ορίσαμε παραπάνω."
   ]
  },
  {
   "cell_type": "code",
   "execution_count": 5,
   "metadata": {},
   "outputs": [],
   "source": [
    "path = output_path\n",
    "new_file_list = [f for f in os.listdir(path) if f.endswith('.txt')]\n",
    "\n",
    "prdf = pd.read_csv(os.path.join(path,new_file_list[0]),delim_whitespace=True)\n",
    "tasmaxdf = pd.read_csv(os.path.join(path,new_file_list[1]),delim_whitespace=True)\n",
    "tasmindf = pd.read_csv(os.path.join(path,new_file_list[2]),delim_whitespace=True)\n",
    "\n",
    "pr = prdf['value']\n",
    "tasmax = tasmaxdf['value']\n",
    "tasmin = tasmindf['value']\n",
    "year = prdf['Year']\n",
    "month = prdf['Month']\n",
    "day = prdf['Day']"
   ]
  }
 ],
 "metadata": {
  "kernelspec": {
   "display_name": "Python 3",
   "language": "python",
   "name": "python3"
  },
  "language_info": {
   "codemirror_mode": {
    "name": "ipython",
    "version": 3
   },
   "file_extension": ".py",
   "mimetype": "text/x-python",
   "name": "python",
   "nbconvert_exporter": "python",
   "pygments_lexer": "ipython3",
   "version": "3.12.0"
  }
 },
 "nbformat": 4,
 "nbformat_minor": 2
}
